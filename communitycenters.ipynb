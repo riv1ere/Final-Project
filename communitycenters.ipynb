{
 "cells": [
  {
   "cell_type": "markdown",
   "metadata": {},
   "source": [
    "# Community Space Distribution and Attendance\n"
   ]
  },
  {
   "cell_type": "markdown",
   "metadata": {},
   "source": [
    "## Introduction\n",
    "In an era of less face-to-face interaction with increasing digital connectivity, the sense of community fostered by public spaces and gatherings gradually fades. Community Centers are one avenue of preservation nonetheless -- being public venues for socialization and recreational activity, their active function within a neighborhood can signify a close-knit community. Here, we seek to analyze the distribution of these centers as well as their respective attendance counts as a metric of community."
   ]
  },
  {
   "cell_type": "markdown",
   "metadata": {},
   "source": [
    "### Datasets Used\n",
    "- [Community Center Attendance (WRDOC)](https://data.wprdc.org/dataset/daily-community-center-attendance)\n",
    "\n",
    "Details the attendance for a number of community centers throughout Pittsburgh.\n",
    "\n",
    "- [City of Pittsburgh Facilities (WRDOC)](https://data.wprdc.org/dataset/city-of-pittsburgh-facilities/resource/fbb50b02-2879-47cd-abea-ae697ec05170)\n",
    "\n",
    "Lists a number of public facilities around Pittsburgh."
   ]
  },
  {
   "cell_type": "markdown",
   "metadata": {},
   "source": [
    "#### Density of Community Spaces\n",
    "We will begin by importing pandas and geopandas to analyze the datasets."
   ]
  },
  {
   "cell_type": "code",
   "execution_count": null,
   "metadata": {},
   "outputs": [],
   "source": [
    "import pandas as pd\n",
    "import geopandas as gpd\n",
    "\n",
    "# Loading neighborhood shape file.\n",
    "shape_neighborhood = gpd.read_file('Datasets/neighborhoods/Neighborhoods_.shp')\n",
    "\n",
    "shape_neighborhood.head(3)"
   ]
  },
  {
   "cell_type": "markdown",
   "metadata": {},
   "source": [
    "With our libraries available for use, we will import our City of Pittsburgh Facilities dataset and name it \"facilities\". "
   ]
  },
  {
   "cell_type": "code",
   "execution_count": 9,
   "metadata": {},
   "outputs": [
    {
     "data": {
      "text/html": [
       "<div>\n",
       "<style scoped>\n",
       "    .dataframe tbody tr th:only-of-type {\n",
       "        vertical-align: middle;\n",
       "    }\n",
       "\n",
       "    .dataframe tbody tr th {\n",
       "        vertical-align: top;\n",
       "    }\n",
       "\n",
       "    .dataframe thead th {\n",
       "        text-align: right;\n",
       "    }\n",
       "</style>\n",
       "<table border=\"1\" class=\"dataframe\">\n",
       "  <thead>\n",
       "    <tr style=\"text-align: right;\">\n",
       "      <th></th>\n",
       "      <th>_id</th>\n",
       "      <th>id</th>\n",
       "      <th>parcel_id</th>\n",
       "      <th>inactive</th>\n",
       "      <th>name</th>\n",
       "      <th>rentable</th>\n",
       "      <th>type</th>\n",
       "      <th>primary_user</th>\n",
       "      <th>address_number</th>\n",
       "      <th>street</th>\n",
       "      <th>...</th>\n",
       "      <th>neighborhood</th>\n",
       "      <th>council_district</th>\n",
       "      <th>ward</th>\n",
       "      <th>tract</th>\n",
       "      <th>public_works_division</th>\n",
       "      <th>pli_division</th>\n",
       "      <th>police_zone</th>\n",
       "      <th>fire_zone</th>\n",
       "      <th>latitude</th>\n",
       "      <th>longitude</th>\n",
       "    </tr>\n",
       "  </thead>\n",
       "  <tbody>\n",
       "    <tr>\n",
       "      <th>0</th>\n",
       "      <td>1</td>\n",
       "      <td>650726265</td>\n",
       "      <td>120-J-300</td>\n",
       "      <td>f</td>\n",
       "      <td>57th Street Park Building</td>\n",
       "      <td>f</td>\n",
       "      <td>Storage</td>\n",
       "      <td>Department of Public Works</td>\n",
       "      <td>NaN</td>\n",
       "      <td>57TH ST</td>\n",
       "      <td>...</td>\n",
       "      <td>Upper Lawrenceville</td>\n",
       "      <td>7</td>\n",
       "      <td>10.0</td>\n",
       "      <td>42003101100</td>\n",
       "      <td>2.0</td>\n",
       "      <td>10.0</td>\n",
       "      <td>2.0</td>\n",
       "      <td>3-5</td>\n",
       "      <td>40.485666</td>\n",
       "      <td>-79.946450</td>\n",
       "    </tr>\n",
       "    <tr>\n",
       "      <th>1</th>\n",
       "      <td>2</td>\n",
       "      <td>783044037</td>\n",
       "      <td>2-H-284</td>\n",
       "      <td>f</td>\n",
       "      <td>Albert Turk Graham Park Shelter</td>\n",
       "      <td>f</td>\n",
       "      <td>Shelter</td>\n",
       "      <td>Department of Public Works</td>\n",
       "      <td>39.0</td>\n",
       "      <td>VINE ST</td>\n",
       "      <td>...</td>\n",
       "      <td>Crawford-Roberts</td>\n",
       "      <td>6</td>\n",
       "      <td>3.0</td>\n",
       "      <td>42003030500</td>\n",
       "      <td>3.0</td>\n",
       "      <td>3.0</td>\n",
       "      <td>2.0</td>\n",
       "      <td>2-1</td>\n",
       "      <td>40.440458</td>\n",
       "      <td>-79.984104</td>\n",
       "    </tr>\n",
       "    <tr>\n",
       "      <th>2</th>\n",
       "      <td>3</td>\n",
       "      <td>1997158435</td>\n",
       "      <td>23-R-157</td>\n",
       "      <td>f</td>\n",
       "      <td>Allegheny Northside Senior Center and Hazlett ...</td>\n",
       "      <td>t</td>\n",
       "      <td>Senior</td>\n",
       "      <td>CitiParks</td>\n",
       "      <td>5.0</td>\n",
       "      <td>ALLEGHENY SQ E</td>\n",
       "      <td>...</td>\n",
       "      <td>Allegheny Center</td>\n",
       "      <td>1</td>\n",
       "      <td>22.0</td>\n",
       "      <td>42003562700</td>\n",
       "      <td>1.0</td>\n",
       "      <td>22.0</td>\n",
       "      <td>1.0</td>\n",
       "      <td>1-6</td>\n",
       "      <td>40.453099</td>\n",
       "      <td>-80.005343</td>\n",
       "    </tr>\n",
       "  </tbody>\n",
       "</table>\n",
       "<p>3 rows × 22 columns</p>\n",
       "</div>"
      ],
      "text/plain": [
       "   _id          id  parcel_id inactive  \\\n",
       "0    1   650726265  120-J-300        f   \n",
       "1    2   783044037    2-H-284        f   \n",
       "2    3  1997158435   23-R-157        f   \n",
       "\n",
       "                                                name rentable     type  \\\n",
       "0                          57th Street Park Building        f  Storage   \n",
       "1                    Albert Turk Graham Park Shelter        f  Shelter   \n",
       "2  Allegheny Northside Senior Center and Hazlett ...        t   Senior   \n",
       "\n",
       "                 primary_user  address_number          street  ...  \\\n",
       "0  Department of Public Works             NaN         57TH ST  ...   \n",
       "1  Department of Public Works            39.0         VINE ST  ...   \n",
       "2                   CitiParks             5.0  ALLEGHENY SQ E  ...   \n",
       "\n",
       "          neighborhood council_district  ward        tract  \\\n",
       "0  Upper Lawrenceville                7  10.0  42003101100   \n",
       "1     Crawford-Roberts                6   3.0  42003030500   \n",
       "2     Allegheny Center                1  22.0  42003562700   \n",
       "\n",
       "   public_works_division  pli_division  police_zone  fire_zone   latitude  \\\n",
       "0                    2.0          10.0          2.0        3-5  40.485666   \n",
       "1                    3.0           3.0          2.0        2-1  40.440458   \n",
       "2                    1.0          22.0          1.0        1-6  40.453099   \n",
       "\n",
       "   longitude  \n",
       "0 -79.946450  \n",
       "1 -79.984104  \n",
       "2 -80.005343  \n",
       "\n",
       "[3 rows x 22 columns]"
      ]
     },
     "execution_count": 9,
     "metadata": {},
     "output_type": "execute_result"
    }
   ],
   "source": [
    "facilities = pd.read_csv('Datasets/city-facilities.csv')\n",
    "facilities.head(3)"
   ]
  },
  {
   "cell_type": "markdown",
   "metadata": {},
   "source": [
    "You will note, from a preliminary list of 3 rows, that the data contains a number of columns as well as types of facilities irrelevant to the overarching metric. We would like to sift through the dataset and target recreational spaces instead. To understand what data we work with, we will first extract a list of facilty types to determine how to splice the set."
   ]
  },
  {
   "cell_type": "code",
   "execution_count": 8,
   "metadata": {},
   "outputs": [
    {
     "name": "stdout",
     "output_type": "stream",
     "text": [
      "['Storage' 'Shelter' 'Senior' 'Pool' 'Utility' 'Activity' 'Restrooms'\n",
      " 'Service' 'Concession' 'Dugout' 'Pool/Rec' 'Rec Center' 'Office'\n",
      " 'Pool Closed' 'Firehouse' 'Community' 'Vacant' 'Cabin' 'Medic Station'\n",
      " 'Training' 'Police' 'Salt Dome' 'Recycling' 'SERVICE' 'STORAGE' 'POLICE'\n",
      " 'TRAINING' 'OFFICE']\n"
     ]
    }
   ],
   "source": [
    "# List the different possible names for the 'type' column\n",
    "print(facilities['type'].unique())"
   ]
  },
  {
   "cell_type": "markdown",
   "metadata": {},
   "source": [
    "\n",
    "We can now see what types of facilities the dataset has provided us! To determine the density of community spaces, we will extract data entries deemed types 'Pool', 'Pool/Rec', 'Rec Center', and 'Community' to their own library."
   ]
  },
  {
   "cell_type": "code",
   "execution_count": null,
   "metadata": {},
   "outputs": [],
   "source": []
  }
 ],
 "metadata": {
  "kernelspec": {
   "display_name": "Python 3",
   "language": "python",
   "name": "python3"
  },
  "language_info": {
   "codemirror_mode": {
    "name": "ipython",
    "version": 3
   },
   "file_extension": ".py",
   "mimetype": "text/x-python",
   "name": "python",
   "nbconvert_exporter": "python",
   "pygments_lexer": "ipython3",
   "version": "3.8.3"
  }
 },
 "nbformat": 4,
 "nbformat_minor": 4
}
