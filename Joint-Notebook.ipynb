{
 "cells": [
  {
   "cell_type": "markdown",
   "metadata": {},
   "source": [
    "# **The Best Neighborhood in Pittsburgh based on Community**\n",
    "\n",
    "**Group members:**\n",
    "- Makenzie Wolf - Grow Pittsburgh Food Gardens\n",
    "- Jeremy Matloub - Lots to Love\n",
    "- Ana Polynice - Community Center Attendance\n",
    "\n",
    "### Our metrics:\n",
    "\n",
    "Our overarching metric for the best neighborhood in Pittsburgh is it's community. We each chose a metric to analyze that adds to the community: the number of Grow Pittsburgh Gardens in a neighborhood, the number of Lots to Love locations in a neighborhood, the amount of attendance a neighborhood's community centers get, and the number of city facilities in a neighborhood.\n",
    "If we can find the top eight neighborhoods for each category, we will likely find a neighborhood that overlaps in all aspects, therefore that neighborhood should have the best community.\n",
    "\n",
    "## Grow Pittsburgh Food Gardens:\n",
    "\n",
    "Grow Pittsburgh is an organization that educates those who live in the city of Pittsburgh on how to care for and grow food despite living in an urban setting. They organize adult workshops, garden curriculum for schools and teacher training in order to teach others and donate the produce they grow to food distribution centers. This allows people to not only gain knowledge on how to grow their own food but help their community by providing safe and locally grown produce to those who may not have access to it.\n",
    "\n",
    "**Dataset link:**\n",
    "https://data.wprdc.org/dataset/grow-pittsburgh-food-gardens\\\n",
    "\n",
    "### How this relates to the metric of community?\n",
    "The more of these gardens there are in a neighborhood, the more likely you will be surrounded by those who cared about you, hence strengthening the community.\n",
    "\n",
    "**Let's get to the data!**"
   ]
  },
  {
   "cell_type": "code",
   "execution_count": null,
   "metadata": {},
   "outputs": [],
   "source": []
  }
 ],
 "metadata": {
  "kernelspec": {
   "display_name": "Python 3",
   "language": "python",
   "name": "python3"
  },
  "language_info": {
   "codemirror_mode": {
    "name": "ipython",
    "version": 3
   },
   "file_extension": ".py",
   "mimetype": "text/x-python",
   "name": "python",
   "nbconvert_exporter": "python",
   "pygments_lexer": "ipython3",
   "version": "3.8.3"
  }
 },
 "nbformat": 4,
 "nbformat_minor": 4
}
