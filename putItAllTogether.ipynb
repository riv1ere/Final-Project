{
 "cells": [
  {
   "cell_type": "markdown",
   "metadata": {},
   "source": [
    "# The Best Neighborhood for Community in Pittsburgh\n",
    "\n",
    "Our overarching metric for the best neighborhood in Pittsburgh"
   ]
  },
  {
   "cell_type": "markdown",
   "metadata": {},
   "source": [
    "### Top Neighborhoods by Project Quantity\n",
    "1. Homewood North - 17 \n",
    "2. South Oakland - 14\n",
    "3. Perry South - 11 \n",
    "4. Larimer - 11\n",
    "5. West Oakland - 10\n",
    "6. Garfield - 9\n",
    "7. East Liberty - 8\n",
    "8. Duquesne Heights - 8\n",
    "\n",
    "By a significant margin, Homewood North has a significantly higher quantity of community-based restoration projects, said projects centered around turning vacant lots into accessible spaces aimed toward community betterment. Being a suburban area with a high density of smaller sized community parks, the neighborhood provides accessible green spaces to a wideranging demographic. South Oakland, being more personally familiar with the neighborhood, has significantly larger parks, such as Schenley park, and a variety of other smaller green spaces making it a secondary contender. My personal favorite and initial prediction would have been East Liberty, however, having been there several times and seen the expansive parks and green public spaces in the neighborhood with a strong sense of community and familiarity with one another exhibited by those of whom that live there."
   ]
  }
 ],
 "metadata": {
  "kernelspec": {
   "display_name": "Python 3",
   "language": "python",
   "name": "python3"
  },
  "language_info": {
   "codemirror_mode": {
    "name": "ipython",
    "version": 3
   },
   "file_extension": ".py",
   "mimetype": "text/x-python",
   "name": "python",
   "nbconvert_exporter": "python",
   "pygments_lexer": "ipython3",
   "version": "3.8.3"
  }
 },
 "nbformat": 4,
 "nbformat_minor": 4
}
