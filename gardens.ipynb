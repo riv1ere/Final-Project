{
 "cells": [
  {
   "cell_type": "markdown",
   "metadata": {},
   "source": [
    "# Grow Pittsburgh Food Gardens\n",
    "\n",
    "### Introductions: \n",
    "\n",
    "Grow Pittsburgh is an organization that educates those who live in the city of Pittsburgh on how to care for and grow food despite living in an urban setting. They organize adult workshops, garden curriculum for schools and teacher training in order to teach others and donate the produce they grow to food distribution centers. This allows people to not only gain knowledge on how to grow their own food but help their community by providing safe and locally grown produce to those who may not have access to it. \n",
    "\n",
    "### How this relates to the metric of community:\n",
    "The more of these gardens there are in a neighborhood, the more likely you will be surrounded by those who cared about you, hence strengthening the community.\n",
    "\n"
   ]
  },
  {
   "cell_type": "code",
   "execution_count": null,
   "metadata": {},
   "outputs": [],
   "source": []
  }
 ],
 "metadata": {
  "kernelspec": {
   "display_name": "Python 3",
   "language": "python",
   "name": "python3"
  },
  "language_info": {
   "codemirror_mode": {
    "name": "ipython",
    "version": 3
   },
   "file_extension": ".py",
   "mimetype": "text/x-python",
   "name": "python",
   "nbconvert_exporter": "python",
   "pygments_lexer": "ipython3",
   "version": "3.8.3"
  }
 },
 "nbformat": 4,
 "nbformat_minor": 4
}
