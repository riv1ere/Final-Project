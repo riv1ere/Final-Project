{
 "cells": [
  {
   "cell_type": "markdown",
   "metadata": {},
   "source": [
    "# Grow Pittsburgh Food Gardens\n",
    "\n",
    "### Introductions: \n",
    "\n",
    "Grow Pittsburgh is an organization that educates those who live in the city of Pittsburgh on how to care for and grow food despite living in an urban setting. They organize adult workshops, garden curriculum for schools and teacher training in order to teach others and donate the produce they grow to food distribution centers. This allows people to not only gain knowledge on how to grow their own food but help their community by providing safe and locally grown produce to those who may not have access to it. \n",
    "\n",
    "### How this relates to the metric of community:\n",
    "The more of these gardens there are in a neighborhood, the more likely you will be surrounded by those who cared about you, hence strengthening the community.\n",
    "\n",
    "### Let's get to the data!\n"
   ]
  },
  {
   "cell_type": "code",
   "execution_count": 2,
   "metadata": {},
   "outputs": [
    {
     "data": {
      "text/html": [
       "<div>\n",
       "<style scoped>\n",
       "    .dataframe tbody tr th:only-of-type {\n",
       "        vertical-align: middle;\n",
       "    }\n",
       "\n",
       "    .dataframe tbody tr th {\n",
       "        vertical-align: top;\n",
       "    }\n",
       "\n",
       "    .dataframe thead th {\n",
       "        text-align: right;\n",
       "    }\n",
       "</style>\n",
       "<table border=\"1\" class=\"dataframe\">\n",
       "  <thead>\n",
       "    <tr style=\"text-align: right;\">\n",
       "      <th></th>\n",
       "      <th>_id</th>\n",
       "      <th>urban_grower</th>\n",
       "      <th>grower_id</th>\n",
       "      <th>category</th>\n",
       "      <th>url</th>\n",
       "      <th>street_address</th>\n",
       "      <th>city</th>\n",
       "      <th>state</th>\n",
       "      <th>zip_code</th>\n",
       "      <th>country</th>\n",
       "      <th>latitude</th>\n",
       "      <th>longitude</th>\n",
       "    </tr>\n",
       "  </thead>\n",
       "  <tbody>\n",
       "    <tr>\n",
       "      <th>0</th>\n",
       "      <td>1</td>\n",
       "      <td>Angora Gardens</td>\n",
       "      <td>584</td>\n",
       "      <td>sustainability-fund-site|other</td>\n",
       "      <td>https://www.growpittsburgh.org/directory/garde...</td>\n",
       "      <td>3 Muse Lane</td>\n",
       "      <td>White Oak</td>\n",
       "      <td>Pennsylvania</td>\n",
       "      <td>15131.0</td>\n",
       "      <td>US</td>\n",
       "      <td>40.404686</td>\n",
       "      <td>-79.862095</td>\n",
       "    </tr>\n",
       "    <tr>\n",
       "      <th>1</th>\n",
       "      <td>2</td>\n",
       "      <td>Everybody's Garden</td>\n",
       "      <td>586</td>\n",
       "      <td>sustainability-fund-site|other</td>\n",
       "      <td>https://www.growpittsburgh.org/directory/garde...</td>\n",
       "      <td>301 West Elizabeth Street</td>\n",
       "      <td>Pittsburgh</td>\n",
       "      <td>Pennsylvania</td>\n",
       "      <td>15207.0</td>\n",
       "      <td>US</td>\n",
       "      <td>40.406546</td>\n",
       "      <td>-79.945442</td>\n",
       "    </tr>\n",
       "    <tr>\n",
       "      <th>2</th>\n",
       "      <td>3</td>\n",
       "      <td>EvGard Extension</td>\n",
       "      <td>587</td>\n",
       "      <td>other</td>\n",
       "      <td>https://www.growpittsburgh.org/directory/garde...</td>\n",
       "      <td>NaN</td>\n",
       "      <td>Pittsburgh</td>\n",
       "      <td>Pennsylvania</td>\n",
       "      <td>15201.0</td>\n",
       "      <td>US</td>\n",
       "      <td>40.406377</td>\n",
       "      <td>-79.945559</td>\n",
       "    </tr>\n",
       "    <tr>\n",
       "      <th>3</th>\n",
       "      <td>4</td>\n",
       "      <td>Glen Hazel Communiuty Garden</td>\n",
       "      <td>588</td>\n",
       "      <td>other</td>\n",
       "      <td>https://www.growpittsburgh.org/directory/garde...</td>\n",
       "      <td>Johnston Avenue at Roselle Drive</td>\n",
       "      <td>Pittsburgh</td>\n",
       "      <td>Pennsylvania</td>\n",
       "      <td>15207.0</td>\n",
       "      <td>US</td>\n",
       "      <td>40.406040</td>\n",
       "      <td>-79.931253</td>\n",
       "    </tr>\n",
       "    <tr>\n",
       "      <th>4</th>\n",
       "      <td>5</td>\n",
       "      <td>Grow Pittsburgh</td>\n",
       "      <td>589</td>\n",
       "      <td>grow-pittsburgh-site</td>\n",
       "      <td>https://www.growpittsburgh.org/directory/garde...</td>\n",
       "      <td>6587 Hamilton Avenue #2W</td>\n",
       "      <td>Pittsburgh</td>\n",
       "      <td>Pennsylvania</td>\n",
       "      <td>15206.0</td>\n",
       "      <td>US</td>\n",
       "      <td>40.458481</td>\n",
       "      <td>-79.911381</td>\n",
       "    </tr>\n",
       "    <tr>\n",
       "      <th>5</th>\n",
       "      <td>6</td>\n",
       "      <td>Lawrenceville Organic Community Garden</td>\n",
       "      <td>590</td>\n",
       "      <td>other</td>\n",
       "      <td>https://www.growpittsburgh.org/directory/garde...</td>\n",
       "      <td>Allegheny Cemetery, 4734 Butler Street</td>\n",
       "      <td>Pittsburgh</td>\n",
       "      <td>Pennsylvania</td>\n",
       "      <td>15201.0</td>\n",
       "      <td>US</td>\n",
       "      <td>40.477158</td>\n",
       "      <td>-79.956114</td>\n",
       "    </tr>\n",
       "    <tr>\n",
       "      <th>6</th>\n",
       "      <td>7</td>\n",
       "      <td>Masjid al Mu'min Madinah Garden</td>\n",
       "      <td>591</td>\n",
       "      <td>sustainability-fund-site|other</td>\n",
       "      <td>https://www.growpittsburgh.org/directory/garde...</td>\n",
       "      <td>159 Winslow Street</td>\n",
       "      <td>Pittsburgh</td>\n",
       "      <td>Pennsylvania</td>\n",
       "      <td>15206.0</td>\n",
       "      <td>US</td>\n",
       "      <td>40.464450</td>\n",
       "      <td>-79.911651</td>\n",
       "    </tr>\n",
       "    <tr>\n",
       "      <th>7</th>\n",
       "      <td>8</td>\n",
       "      <td>South Oakland Community Orchard</td>\n",
       "      <td>592</td>\n",
       "      <td>other</td>\n",
       "      <td>https://www.growpittsburgh.org/directory/garde...</td>\n",
       "      <td>3213 Parkview Avenue</td>\n",
       "      <td>Pittsburgh</td>\n",
       "      <td>Pennsylvania</td>\n",
       "      <td>15213.0</td>\n",
       "      <td>US</td>\n",
       "      <td>40.429834</td>\n",
       "      <td>-79.953578</td>\n",
       "    </tr>\n",
       "    <tr>\n",
       "      <th>8</th>\n",
       "      <td>9</td>\n",
       "      <td>Thelma Lovette YMCA Garden</td>\n",
       "      <td>593</td>\n",
       "      <td>other</td>\n",
       "      <td>https://www.growpittsburgh.org/directory/garde...</td>\n",
       "      <td>2114 Centre Avenue</td>\n",
       "      <td>Pittsburgh</td>\n",
       "      <td>Pennsylvania</td>\n",
       "      <td>15219.0</td>\n",
       "      <td>US</td>\n",
       "      <td>40.444369</td>\n",
       "      <td>-79.978126</td>\n",
       "    </tr>\n",
       "    <tr>\n",
       "      <th>9</th>\n",
       "      <td>10</td>\n",
       "      <td>Wiggins Garden</td>\n",
       "      <td>594</td>\n",
       "      <td>other</td>\n",
       "      <td>https://www.growpittsburgh.org/directory/garde...</td>\n",
       "      <td>Near 3026 Wiggins Street</td>\n",
       "      <td>Pittsburgh</td>\n",
       "      <td>Pennsylvania</td>\n",
       "      <td>15219.0</td>\n",
       "      <td>US</td>\n",
       "      <td>40.457618</td>\n",
       "      <td>-79.969499</td>\n",
       "    </tr>\n",
       "  </tbody>\n",
       "</table>\n",
       "</div>"
      ],
      "text/plain": [
       "   _id                            urban_grower  grower_id  \\\n",
       "0    1                          Angora Gardens        584   \n",
       "1    2                      Everybody's Garden        586   \n",
       "2    3                        EvGard Extension        587   \n",
       "3    4            Glen Hazel Communiuty Garden        588   \n",
       "4    5                         Grow Pittsburgh        589   \n",
       "5    6  Lawrenceville Organic Community Garden        590   \n",
       "6    7         Masjid al Mu'min Madinah Garden        591   \n",
       "7    8         South Oakland Community Orchard        592   \n",
       "8    9              Thelma Lovette YMCA Garden        593   \n",
       "9   10                          Wiggins Garden        594   \n",
       "\n",
       "                         category  \\\n",
       "0  sustainability-fund-site|other   \n",
       "1  sustainability-fund-site|other   \n",
       "2                           other   \n",
       "3                           other   \n",
       "4            grow-pittsburgh-site   \n",
       "5                           other   \n",
       "6  sustainability-fund-site|other   \n",
       "7                           other   \n",
       "8                           other   \n",
       "9                           other   \n",
       "\n",
       "                                                 url  \\\n",
       "0  https://www.growpittsburgh.org/directory/garde...   \n",
       "1  https://www.growpittsburgh.org/directory/garde...   \n",
       "2  https://www.growpittsburgh.org/directory/garde...   \n",
       "3  https://www.growpittsburgh.org/directory/garde...   \n",
       "4  https://www.growpittsburgh.org/directory/garde...   \n",
       "5  https://www.growpittsburgh.org/directory/garde...   \n",
       "6  https://www.growpittsburgh.org/directory/garde...   \n",
       "7  https://www.growpittsburgh.org/directory/garde...   \n",
       "8  https://www.growpittsburgh.org/directory/garde...   \n",
       "9  https://www.growpittsburgh.org/directory/garde...   \n",
       "\n",
       "                           street_address        city         state  zip_code  \\\n",
       "0                             3 Muse Lane   White Oak  Pennsylvania   15131.0   \n",
       "1               301 West Elizabeth Street  Pittsburgh  Pennsylvania   15207.0   \n",
       "2                                     NaN  Pittsburgh  Pennsylvania   15201.0   \n",
       "3        Johnston Avenue at Roselle Drive  Pittsburgh  Pennsylvania   15207.0   \n",
       "4                6587 Hamilton Avenue #2W  Pittsburgh  Pennsylvania   15206.0   \n",
       "5  Allegheny Cemetery, 4734 Butler Street  Pittsburgh  Pennsylvania   15201.0   \n",
       "6                      159 Winslow Street  Pittsburgh  Pennsylvania   15206.0   \n",
       "7                    3213 Parkview Avenue  Pittsburgh  Pennsylvania   15213.0   \n",
       "8                      2114 Centre Avenue  Pittsburgh  Pennsylvania   15219.0   \n",
       "9                Near 3026 Wiggins Street  Pittsburgh  Pennsylvania   15219.0   \n",
       "\n",
       "  country   latitude  longitude  \n",
       "0      US  40.404686 -79.862095  \n",
       "1      US  40.406546 -79.945442  \n",
       "2      US  40.406377 -79.945559  \n",
       "3      US  40.406040 -79.931253  \n",
       "4      US  40.458481 -79.911381  \n",
       "5      US  40.477158 -79.956114  \n",
       "6      US  40.464450 -79.911651  \n",
       "7      US  40.429834 -79.953578  \n",
       "8      US  40.444369 -79.978126  \n",
       "9      US  40.457618 -79.969499  "
      ]
     },
     "execution_count": 2,
     "metadata": {},
     "output_type": "execute_result"
    }
   ],
   "source": [
    "## import the important stuffs!\n",
    "import pandas as pd\n",
    "import numpy as np\n",
    "%matplotlib inline\n",
    "import matplotlib.pyplot as plt\n",
    "import geopandas\n",
    "\n",
    "gards = pd.read_csv(\"Datasets/growpittsburgh.csv\")\n",
    "gards.head(10)\n"
   ]
  },
  {
   "cell_type": "markdown",
   "metadata": {},
   "source": [
    "This is what the data set looks like at the beginning! As it is not very useful the way it is, we have to the number the times that each zip code occurs and place it in a graph."
   ]
  },
  {
   "cell_type": "code",
   "execution_count": 13,
   "metadata": {},
   "outputs": [
    {
     "data": {
      "text/plain": [
       "<matplotlib.axes._subplots.AxesSubplot at 0x7f836f6bab20>"
      ]
     },
     "execution_count": 13,
     "metadata": {},
     "output_type": "execute_result"
    },
    {
     "data": {
      "image/png": "[encoded data removed]",
      "text/plain": [
       "<Figure size 504x504 with 1 Axes>"
      ]
     },
     "metadata": {
      "needs_background": "light"
     },
     "output_type": "display_data"
    }
   ],
   "source": [
    "plt.style.use('seaborn-pastel')\n",
    "graphy = gards[\"zip_code\"].value_counts().head(8)\n",
    "\n",
    "graphy.plot(kind = \"bar\", rot = 0, x = \"zip codes\", y = \"number of gardens\", title = \"Zip Codes and their Number of Grow Pittsburgh Gardens\", figsize = (7, 7))"
   ]
  },
  {
   "cell_type": "code",
   "execution_count": 14,
   "metadata": {},
   "outputs": [
    {
     "data": {
      "text/plain": [
       "<matplotlib.axes._subplots.AxesSubplot at 0x7f836f5b4820>"
      ]
     },
     "execution_count": 14,
     "metadata": {},
     "output_type": "execute_result"
    },
    {
     "data": {
      "image/png": "[encoded data removed]",
      "text/plain": [
       "<Figure size 432x288 with 1 Axes>"
      ]
     },
     "metadata": {
      "needs_background": "light"
     },
     "output_type": "display_data"
    }
   ],
   "source": [
    "## might use this if I figure it out\n",
    "neighborhoods = geopandas.read_file(\"Datasets/neighborhoods/Neighborhoods_.shp\")\n",
    "neighborhoods.plot()"
   ]
  },
  {
   "cell_type": "markdown",
   "metadata": {},
   "source": [
    "## We have a winner and some honorable mentions!\n",
    "\n",
    "Zip Codes 15206, 15219, 15201, 15213, and 15221 have the most Grow Pittsburgh Gardens in their regions. 15206 has the most with 13 urban gardens in their region; next is 15219 with 7; and finally 15201, 15213, and 15221 are tied for third with 3 gardens each. 15206 is listed by the Post Office as part of East Liberty, Morningside and East End. 15219 is part of Uptown, Herron Hill, and Schenley Heights. From the Grow Pittsburgh website map that has pinpointed locations of each garden, it seems that East Liberty has the most gardens.\n",
    "\n",
    "![\"map"
   ]
  },
  {
   "cell_type": "code",
   "execution_count": null,
   "metadata": {},
   "outputs": [],
   "source": []
  }
 ],
 "metadata": {
  "kernelspec": {
   "display_name": "Python 3",
   "language": "python",
   "name": "python3"
  },
  "language_info": {
   "codemirror_mode": {
    "name": "ipython",
    "version": 3
   },
   "file_extension": ".py",
   "mimetype": "text/x-python",
   "name": "python",
   "nbconvert_exporter": "python",
   "pygments_lexer": "ipython3",
   "version": "3.8.3"
  }
 },
 "nbformat": 4,
 "nbformat_minor": 4
}
